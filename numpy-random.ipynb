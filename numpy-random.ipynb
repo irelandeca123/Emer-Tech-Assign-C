{
 "cells": [
  {
   "cell_type": "markdown",
   "metadata": {},
   "source": [
    "# The numpy.random package "
   ]
  },
  {
   "cell_type": "code",
   "execution_count": 5,
   "metadata": {},
   "outputs": [],
   "source": [
    "import numpy as np"
   ]
  },
  {
   "cell_type": "code",
   "execution_count": 11,
   "metadata": {},
   "outputs": [
    {
     "data": {
      "text/plain": [
       "array([[[[0.16504987, 0.90584479, 0.34445519, 0.52692472],\n",
       "         [0.05179264, 0.9971271 , 0.10315516, 0.73658772],\n",
       "         [0.88488647, 0.64923575, 0.46486245, 0.84542913]],\n",
       "\n",
       "        [[0.01463671, 0.11511792, 0.73596647, 0.05936138],\n",
       "         [0.76763085, 0.73872617, 0.67815531, 0.69020419],\n",
       "         [0.12761946, 0.16285655, 0.65651074, 0.29298433]],\n",
       "\n",
       "        [[0.8348281 , 0.28521602, 0.91592209, 0.09064903],\n",
       "         [0.74944575, 0.61191892, 0.18387337, 0.91883806],\n",
       "         [0.8791414 , 0.63400277, 0.18755959, 0.98085395]]],\n",
       "\n",
       "\n",
       "       [[[0.75577394, 0.77747604, 0.14460185, 0.45535422],\n",
       "         [0.49109658, 0.98417516, 0.72734469, 0.09229586],\n",
       "         [0.37678133, 0.00510747, 0.06630847, 0.74955715]],\n",
       "\n",
       "        [[0.37328493, 0.05419476, 0.98144545, 0.32578739],\n",
       "         [0.29257609, 0.92427447, 0.28888024, 0.25323266],\n",
       "         [0.51105455, 0.76798063, 0.63100881, 0.26780206]],\n",
       "\n",
       "        [[0.66245636, 0.02915728, 0.68430222, 0.83120093],\n",
       "         [0.07588602, 0.61105303, 0.20657632, 0.27274662],\n",
       "         [0.97099269, 0.85036381, 0.05836748, 0.52523399]]]])"
      ]
     },
     "execution_count": 11,
     "metadata": {},
     "output_type": "execute_result"
    }
   ],
   "source": [
    "np.random.rand (2,3,3,4)"
   ]
  },
  {
   "cell_type": "code",
   "execution_count": null,
   "metadata": {},
   "outputs": [],
   "source": []
  }
 ],
 "metadata": {
  "kernelspec": {
   "display_name": "Python 3",
   "language": "python",
   "name": "python3"
  },
  "language_info": {
   "codemirror_mode": {
    "name": "ipython",
    "version": 3
   },
   "file_extension": ".py",
   "mimetype": "text/x-python",
   "name": "python",
   "nbconvert_exporter": "python",
   "pygments_lexer": "ipython3",
   "version": "3.6.5"
  }
 },
 "nbformat": 4,
 "nbformat_minor": 2
}
