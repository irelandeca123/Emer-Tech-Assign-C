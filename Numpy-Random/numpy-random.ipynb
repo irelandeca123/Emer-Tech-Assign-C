{
 "cells": [
  {
   "cell_type": "markdown",
   "metadata": {},
   "source": [
    "# The Random Sampling Package Notebook \n",
    "*In this notebook I will demonstrate the concepts behind and the use of the numpy random package, including plots\n",
    "of the various distributions.*\n",
    "\n",
    "![numPy](https://encrypted-tbn0.gstatic.com/images?q=tbn:ANd9GcSirpLWnjtiBHZL0cZBhwMetXythyAmOSU7PNin9lIPpdQW1scSDQ)\n"
   ]
  },
  {
   "cell_type": "markdown",
   "metadata": {},
   "source": [
    "### Generating random five numbers from the normal distribution\n",
    "*The normal distributions occurs often in nature. For example, it describes the commonly occurring distribution of samples influenced by a large number of tiny, random disturbances, each with its own unique distribution.\n",
    "I will show it by importing numpy as np and then generating 5 random numbers using the normal distribution which outputs an array as shown below.*"
   ]
  },
  {
   "cell_type": "code",
   "execution_count": 1,
   "metadata": {},
   "outputs": [
    {
     "data": {
      "text/plain": [
       "array([-0.99376365,  1.4914614 ,  0.30177711, -1.53820362,  0.54299222])"
      ]
     },
     "execution_count": 1,
     "metadata": {},
     "output_type": "execute_result"
    }
   ],
   "source": [
    "import numpy as np\n",
    "np.random.normal(size = 5)"
   ]
  },
  {
   "cell_type": "markdown",
   "metadata": {},
   "source": [
    "### Simple randomly generated values example:\n",
    "*In this case i am returning 3 columns and 2 rows to demonstrate how numpy random package works.*"
   ]
  },
  {
   "cell_type": "code",
   "execution_count": 2,
   "metadata": {},
   "outputs": [
    {
     "data": {
      "text/plain": [
       "array([[0.74138262, 0.80551556, 0.84449469],\n",
       "       [0.89857859, 0.8528014 , 0.6252003 ]])"
      ]
     },
     "execution_count": 2,
     "metadata": {},
     "output_type": "execute_result"
    }
   ],
   "source": [
    "np.random.rand (2,3)"
   ]
  },
  {
   "cell_type": "markdown",
   "metadata": {},
   "source": [
    "### Random Integers\n",
    "*Generate five random integers between 1 and 100*"
   ]
  },
  {
   "cell_type": "code",
   "execution_count": 3,
   "metadata": {},
   "outputs": [
    {
     "data": {
      "text/plain": [
       "array([23, 86, 61, 13, 98])"
      ]
     },
     "execution_count": 3,
     "metadata": {},
     "output_type": "execute_result"
    }
   ],
   "source": [
    "np.random.randint(low=1, high=100, size=5)"
   ]
  },
  {
   "cell_type": "markdown",
   "metadata": {},
   "source": [
    "### Uniform Distribution\n",
    "*To pick a random element from a non-empty sequence (like a list or a tuple), you can use random.choice(). There is also a way for choosing multiple elements from a sequence with replacement (duplicates are possible): *"
   ]
  },
  {
   "cell_type": "code",
   "execution_count": 4,
   "metadata": {},
   "outputs": [
    {
     "data": {
      "text/plain": [
       "'one'"
      ]
     },
     "execution_count": 4,
     "metadata": {},
     "output_type": "execute_result"
    }
   ],
   "source": [
    "items = ['one', 'two', 'three', 'four', 'five']\n",
    "np.random.choice(items)"
   ]
  },
  {
   "cell_type": "code",
   "execution_count": 5,
   "metadata": {},
   "outputs": [
    {
     "data": {
      "text/plain": [
       "array(['three', 'four'], dtype='<U5')"
      ]
     },
     "execution_count": 5,
     "metadata": {},
     "output_type": "execute_result"
    }
   ],
   "source": [
    "#Multiple elements but there can be duplicates\n",
    "np.random.choice(items,size=2)"
   ]
  },
  {
   "cell_type": "markdown",
   "metadata": {},
   "source": [
    "*Drawing sample from uniform distribution without replacement*"
   ]
  },
  {
   "cell_type": "code",
   "execution_count": 6,
   "metadata": {},
   "outputs": [
    {
     "data": {
      "text/plain": [
       "array([ 0,  3, 10,  7,  4,  5,  1,  8, 11, 13, 14, 12,  2,  9,  6])"
      ]
     },
     "execution_count": 6,
     "metadata": {},
     "output_type": "execute_result"
    }
   ],
   "source": [
    "np.random.choice(15, size=15, replace=False)"
   ]
  },
  {
   "cell_type": "markdown",
   "metadata": {},
   "source": [
    "*If you need to generate random floats that lie within a specific [x, y] interval, you can use random.uniform(), which plucks from the continuous uniform distribution:*"
   ]
  },
  {
   "cell_type": "code",
   "execution_count": 7,
   "metadata": {},
   "outputs": [
    {
     "data": {
      "text/plain": [
       "11.038288718892415"
      ]
     },
     "execution_count": 7,
     "metadata": {},
     "output_type": "execute_result"
    }
   ],
   "source": [
    "np.random.uniform(10,20)"
   ]
  },
  {
   "cell_type": "markdown",
   "metadata": {},
   "source": [
    "*Another example of uniform setting the lowest 10,highest 1 and setting the size to 5 . Its the same thing as the example above.*"
   ]
  },
  {
   "cell_type": "code",
   "execution_count": 8,
   "metadata": {},
   "outputs": [
    {
     "data": {
      "text/plain": [
       "array([0.84330157, 0.44256462, 0.97474243, 0.94031081, 0.15416665])"
      ]
     },
     "execution_count": 8,
     "metadata": {},
     "output_type": "execute_result"
    }
   ],
   "source": [
    "np.random.uniform(low=0, high= 1, size=5)"
   ]
  },
  {
   "cell_type": "markdown",
   "metadata": {},
   "source": [
    "### Drawing selections from discrete distribution\n",
    "*Using the binomial distribution to draw random numbers to simulate a coin flip,in this situation the coin is flipped 5 times (5 trials) and probability of each trial being 0.5.*"
   ]
  },
  {
   "cell_type": "code",
   "execution_count": 10,
   "metadata": {},
   "outputs": [
    {
     "data": {
      "text/plain": [
       "3"
      ]
     },
     "execution_count": 10,
     "metadata": {},
     "output_type": "execute_result"
    }
   ],
   "source": [
    "np.random.binomial(5, 0.5)"
   ]
  },
  {
   "cell_type": "markdown",
   "metadata": {},
   "source": [
    "### Shuffling an array \n",
    "*This function is very useful when it comes situations like shuffling deck of cards as an example, it takes the whole array and shuffles it.*"
   ]
  },
  {
   "cell_type": "code",
   "execution_count": 11,
   "metadata": {},
   "outputs": [
    {
     "data": {
      "text/plain": [
       "array([37, 46, 13, 41, 30, 24, 35,  4, 16,  6, 15, 10, 39, 47,  5, 20, 38,\n",
       "        0,  1, 36, 33, 19, 34, 45, 11, 21, 32,  2, 49, 27, 22, 43, 18, 52,\n",
       "        8, 26, 48, 14, 31, 25, 50,  9, 28, 42, 17, 12, 23,  7, 40,  3, 51,\n",
       "       29, 44])"
      ]
     },
     "execution_count": 11,
     "metadata": {},
     "output_type": "execute_result"
    }
   ],
   "source": [
    "np.random.permutation(np.arange(53))"
   ]
  },
  {
   "cell_type": "markdown",
   "metadata": {},
   "source": [
    "### Seeding random number generators\n",
    "*Below I will now demonstrate that numpy-random is deterministic by using the random.seed function which seeds the number generator with a number representing the date/time to avoid repeats and prove that we get the same random numbers.*"
   ]
  },
  {
   "cell_type": "code",
   "execution_count": 12,
   "metadata": {},
   "outputs": [
    {
     "data": {
      "text/plain": [
       "array([0.64414354, 0.38074849, 0.66304791, 0.16365073, 0.96260781,\n",
       "       0.34666184, 0.99175099, 0.2350579 , 0.58569427, 0.4066901 ])"
      ]
     },
     "execution_count": 12,
     "metadata": {},
     "output_type": "execute_result"
    }
   ],
   "source": [
    "# Seeding the numpy-random \n",
    "np.random.seed(30)\n",
    "\n",
    "# Generating random numbers \n",
    "np.random.random(10)"
   ]
  },
  {
   "cell_type": "code",
   "execution_count": 13,
   "metadata": {},
   "outputs": [
    {
     "data": {
      "text/plain": [
       "array([0.64414354, 0.38074849, 0.66304791, 0.16365073, 0.96260781,\n",
       "       0.34666184, 0.99175099, 0.2350579 , 0.58569427, 0.4066901 ])"
      ]
     },
     "execution_count": 13,
     "metadata": {},
     "output_type": "execute_result"
    }
   ],
   "source": [
    "# Seeding the numpy-random\n",
    "np.random.seed(30)\n",
    "\n",
    "# Generating random numbers\n",
    "np.random.random(10)"
   ]
  },
  {
   "cell_type": "markdown",
   "metadata": {},
   "source": [
    "### Random boolean values\n",
    "Another common operation is to create a sequence of random Boolean values, True or False. \n",
    "One way to do this would be with np.random.choice([True, False]). However, it’s actually about 4x faster to choose from (0, 1) and then view-cast these integers to their corresponding Boolean values:"
   ]
  },
  {
   "cell_type": "code",
   "execution_count": 17,
   "metadata": {},
   "outputs": [
    {
     "data": {
      "text/plain": [
       "array([False, False, False, False,  True,  True,  True, False,  True,\n",
       "       False, False,  True, False,  True,  True, False,  True,  True,\n",
       "        True, False,  True,  True, False, False, False])"
      ]
     },
     "execution_count": 17,
     "metadata": {},
     "output_type": "execute_result"
    }
   ],
   "source": [
    "np.random.randint(0, 2, size=25, dtype=np.uint8).view(bool)"
   ]
  },
  {
   "cell_type": "markdown",
   "metadata": {},
   "source": [
    "### Generating a histogram using random.normal values to plot it on the histogram.\n",
    "*In this section of the notebook I will go through a powerful probability distributions in Python called histogram  using a simple randomly generated numbers for the database.*"
   ]
  },
  {
   "cell_type": "code",
   "execution_count": 14,
   "metadata": {
    "scrolled": true
   },
   "outputs": [
    {
     "data": {
      "text/plain": [
       "<Figure size 640x480 with 1 Axes>"
      ]
     },
     "metadata": {},
     "output_type": "display_data"
    }
   ],
   "source": [
    "import matplotlib.pyplot as plt\n",
    "x = np.random.normal (10,10,1000)\n",
    "plt.hist(x)\n",
    "plt.title(\"Histogram Demonstration\")\n",
    "plt.xlabel(\"X\")\n",
    "plt.ylabel(\"Y\")\n",
    "plt.show()"
   ]
  },
  {
   "cell_type": "markdown",
   "metadata": {},
   "source": [
    "### Normal Distribution\n",
    "*I will show an example of normal distribution below , normal distributions are often used to represent real valued random variables whose distributions are not known.*"
   ]
  },
  {
   "cell_type": "code",
   "execution_count": 15,
   "metadata": {},
   "outputs": [
    {
     "data": {
      "image/png": "[encoded data removed]",
      "text/plain": [
       "<Figure size 432x288 with 1 Axes>"
      ]
     },
     "metadata": {},
     "output_type": "display_data"
    }
   ],
   "source": [
    "import matplotlib.pyplot as plt\n",
    "import numpy as np\n",
    "\n",
    "num1, num2 = 0.8, 0.2\n",
    "s = np.random.normal(num1, num2, 1000)\n",
    "\n",
    "# Creating the bins and histogram\n",
    "count, bins, ignored = plt.hist(s, 20, density=True)\n",
    "\n",
    "# Ploting the distribution curve\n",
    "plt.plot(bins, 1/(num2 * np.sqrt(2 * np.pi)) *\n",
    "np.exp( - (bins - num1)**2 / (2 * num2**2) ),       linewidth=3, color='r')\n",
    "plt.show()"
   ]
  },
  {
   "cell_type": "markdown",
   "metadata": {},
   "source": [
    "### Simple Scatter Plot\n",
    "*This example showcases a simple scatter plot.*"
   ]
  },
  {
   "cell_type": "code",
   "execution_count": 16,
   "metadata": {},
   "outputs": [
    {
     "data": {
      "image/png": "[encoded data removed]",
      "text/plain": [
       "<Figure size 432x288 with 1 Axes>"
      ]
     },
     "metadata": {},
     "output_type": "display_data"
    }
   ],
   "source": [
    "import numpy as np\n",
    "import matplotlib.pyplot as plt\n",
    "\n",
    "# Fixing random state for reproducibility\n",
    "np.random.seed(19680801)\n",
    "\n",
    "\n",
    "N = 50\n",
    "x = np.random.rand(N)\n",
    "y = np.random.rand(N)\n",
    "colors = np.random.rand(N)\n",
    "area = (30 * np.random.rand(N))**2  # 0 to 15 point radii\n",
    "\n",
    "plt.scatter(x, y, s=area, c=colors, alpha=0.5)\n",
    "plt.show()"
   ]
  },
  {
   "cell_type": "markdown",
   "metadata": {},
   "source": [
    "## Why use random number generator ?\n",
    "*The random module provides access to functions that support many operations. Random number generator has very important uses when it comes to data analysis and probability distributions as shown in this notebook.*\n",
    "#### When to use it?\n",
    "> *We want the computer to pick a random number in a given range.*\n",
    "\n",
    "> *Pick a random element from a list, pick a random card from a deck, flip a coin\n",
    "etc. *\n",
    "\n",
    "> *When making your password database more secure or powering a random page feature\n",
    "of your website. *\n",
    "\n"
   ]
  },
  {
   "cell_type": "markdown",
   "metadata": {},
   "source": [
    "## References:\n",
    "\n",
    "https://docs.scipy.org/doc/numpy/reference/routines.random.html\n",
    "\n",
    "https://www.tutorialspoint.com/python/python_normal_distribution.htm\n",
    "\n",
    "https://matplotlib.org/gallery/shapes_and_collections/scatter.html#sphx-glr-gallery-shapes-and-collections-scatter-py\n",
    "\n",
    "http://en.wikipedia.org/wiki/Normal_distribution\n",
    "\n",
    "https://realpython.com/python-random/\n",
    "\n",
    "\n"
   ]
  }
 ],
 "metadata": {
  "kernelspec": {
   "display_name": "Python 3",
   "language": "python",
   "name": "python3"
  },
  "language_info": {
   "codemirror_mode": {
    "name": "ipython",
    "version": 3
   },
   "file_extension": ".py",
   "mimetype": "text/x-python",
   "name": "python",
   "nbconvert_exporter": "python",
   "pygments_lexer": "ipython3",
   "version": "3.6.5"
  }
 },
 "nbformat": 4,
 "nbformat_minor": 2
}
