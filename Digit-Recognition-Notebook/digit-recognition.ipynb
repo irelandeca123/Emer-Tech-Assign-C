{
 "cells": [
  {
   "cell_type": "markdown",
   "metadata": {},
   "source": [
    "# Digit Recognition\n"
   ]
  },
  {
   "cell_type": "markdown",
   "metadata": {},
   "source": [
    "![digitRecognition](https://cdn-images-1.medium.com/max/1000/1*4TJWlK-FPhskEIJshfEx5g.jpeg)\n"
   ]
  },
  {
   "cell_type": "markdown",
   "metadata": {},
   "source": [
    "This notebook is about using a database of handwritten digits called MNIST which is a set of 60,000 samples of handwritten digits where each sample consists of a grayscale image of size 28×28.In this project I will use sklearn.datasets package to download the MNIST database from mldata.org.\n",
    "\n",
    "Script Steps: \n",
    "- Calculate the HOG features for each sample in the database.\n",
    "- Train a multi-class linear SVM with the HOG features of each sample along with the corresponding label.\n",
    "- Save the classifier in a file.\n",
    "- Last step is testing the classifier."
   ]
  },
  {
   "cell_type": "markdown",
   "metadata": {},
   "source": [
    "## Libraries: \n",
    "- sklearn\n",
    "- skimage\n",
    "- numpy\n",
    "- collections\n",
    "- cv2 "
   ]
  },
  {
   "cell_type": "markdown",
   "metadata": {},
   "source": [
    "## Contents\n",
    "- 1. mnist_generator.py: Python script that creates classifier file digits_cls.pkl.\n",
    "- 2. digitrec:  Python Script to test the classifier.\n",
    "- 3. 5.png: number from mnist dataset (to test the classifier).\n",
    "- 4. test1.jpg: handwritten numbers on a page to test the classifier.\n",
    "- 5. test2.jpg: handwritten numbers on a page to test the classifier."
   ]
  },
  {
   "cell_type": "markdown",
   "metadata": {},
   "source": [
    "## Usage\n",
    "##### 1.Clone the repository:\n",
    ">cd\n",
    "\n",
    ">git clone https://github.com/irelandeca123/Emer-Tech-Assign-C/tree/master/DigitRecognition\n",
    "\n",
    ">cd DigitRecognition\n",
    "\n",
    "##### 2.Generate the dataset:\n",
    "Run the script mnist_generator.py in order to train the classifier which will produce a file called digits_cls.pkl.\n",
    "\n",
    ">python generateClassifier.py\n",
    "\n",
    "or you can use any python development environment to run it. \n",
    "\n",
    "##### 3.Testing the classifier\n",
    ">python digitrec.py\n"
   ]
  },
  {
   "cell_type": "markdown",
   "metadata": {},
   "source": [
    "## Results\n",
    "Sample Image 5.png"
   ]
  },
  {
   "cell_type": "markdown",
   "metadata": {},
   "source": [
    "![result](../DigitRecognition/Result/result1.png)\n"
   ]
  },
  {
   "cell_type": "markdown",
   "metadata": {},
   "source": [
    "Sample test2.jpg\n",
    "\n",
    "![result](../DigitRecognition/Result/result2.png)\n"
   ]
  },
  {
   "cell_type": "markdown",
   "metadata": {},
   "source": [
    "## Performance:\n",
    "I am detecting handwritten digits using HOG features and a multiclass Linear SVM therefore the performance is very quick, easy to implement and detect.Linear Support Vector Machines trained on HOG features are now a de facto standard across many visual\n",
    "perception tasks. Their popularisation can largely be attributed to the step-change in performance they brought to pedestrian detection, and their subsequent successes in deformable parts models there is very highly detailed information about HOG features with Linear SVM at https://arxiv.org/pdf/1406.2419.pdf.\n"
   ]
  },
  {
   "cell_type": "markdown",
   "metadata": {},
   "source": [
    "## References:\n",
    "https://scikit-learn.org/stable/auto_examples/classification/plot_digits_classification.html\n",
    "\n",
    "https://www.pyimagesearch.com/2017/02/13/recognizing-digits-with-opencv-and-python/\n",
    "\n",
    "https://stackoverflow.com/questions/9413216/simple-digit-recognition-ocr-in-opencv-python\n",
    "\n",
    "https://github.com/pavitrakumar78/Python-Custom-Digit-Recognition\n",
    "\n",
    "https://arxiv.org/pdf/1406.2419.pdf\n",
    "\n",
    "https://www.digitalocean.com/community/tutorials/how-to-build-a-neural-network-to-recognize-handwritten-digits-with-tensorflow\n",
    "\n",
    "http://hanzratech.in/2015/02/24/handwritten-digit-recognition-using-opencv-sklearn-and-python.html"
   ]
  }
 ],
 "metadata": {
  "kernelspec": {
   "display_name": "Python 3",
   "language": "python",
   "name": "python3"
  },
  "language_info": {
   "codemirror_mode": {
    "name": "ipython",
    "version": 3
   },
   "file_extension": ".py",
   "mimetype": "text/x-python",
   "name": "python",
   "nbconvert_exporter": "python",
   "pygments_lexer": "ipython3",
   "version": "3.6.5"
  }
 },
 "nbformat": 4,
 "nbformat_minor": 2
}
